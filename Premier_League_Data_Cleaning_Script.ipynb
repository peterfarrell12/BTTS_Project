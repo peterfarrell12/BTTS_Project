{
  "nbformat": 4,
  "nbformat_minor": 0,
  "metadata": {
    "colab": {
      "name": "Premier League Data Cleaning Script.ipynb",
      "provenance": [],
      "collapsed_sections": [],
      "include_colab_link": true
    },
    "kernelspec": {
      "name": "python3",
      "display_name": "Python 3"
    },
    "accelerator": "TPU"
  },
  "cells": [
    {
      "cell_type": "markdown",
      "metadata": {
        "id": "view-in-github",
        "colab_type": "text"
      },
      "source": [
        "<a href=\"https://colab.research.google.com/github/peterfarrell12/BTTS_Project/blob/master/Premier_League_Data_Cleaning_Script.ipynb\" target=\"_parent\"><img src=\"https://colab.research.google.com/assets/colab-badge.svg\" alt=\"Open In Colab\"/></a>"
      ]
    },
    {
      "cell_type": "code",
      "metadata": {
        "id": "G2gBEdtOZUId",
        "colab_type": "code",
        "colab": {}
      },
      "source": [
        "!pip install datapackage\n",
        "!pip install pandas"
      ],
      "execution_count": 0,
      "outputs": []
    },
    {
      "cell_type": "code",
      "metadata": {
        "colab_type": "code",
        "id": "cZIDp985ZhjJ",
        "colab": {}
      },
      "source": [
        "from google.colab import files\n",
        "\n",
        "uploaded = files.upload()\n",
        "\n",
        "for fn in uploaded.keys():\n",
        "  print('User uploaded file \"{name}\" with length {length} bytes'.format(\n",
        "      name=fn, length=len(uploaded[fn])))"
      ],
      "execution_count": 0,
      "outputs": []
    },
    {
      "cell_type": "code",
      "metadata": {
        "id": "pdemwIe4DgvU",
        "colab_type": "code",
        "colab": {}
      },
      "source": [
        "import pandas as pd\n",
        "import re\n",
        "from datetime import date\n",
        "import calendar"
      ],
      "execution_count": 0,
      "outputs": []
    },
    {
      "cell_type": "code",
      "metadata": {
        "id": "_fu-0n-uZxf8",
        "colab_type": "code",
        "colab": {}
      },
      "source": [
        "data = pd.read_excel(\"PL_Game_Data_1.xlsx\",)\n",
        "table_data = pd.read_excel(\"PL_Table_Data.xlsx\")"
      ],
      "execution_count": 0,
      "outputs": []
    },
    {
      "cell_type": "code",
      "metadata": {
        "id": "K0HTyouNAahG",
        "colab_type": "code",
        "colab": {}
      },
      "source": [
        "def get_date(season_col,date_col):\n",
        "             \n",
        "  y = str(season_col)\n",
        "  years = y.split(\"/\")\n",
        "  y1 = years[0]\n",
        "  y2 = years[1]\n",
        "  date = date_col[4:]\n",
        "  date = date.replace(\"]\", \"/\")\n",
        "  date = date.replace(\")\", \"/\")\n",
        "  if \"Aug\" in date or \"Sep\" in date or \"Oct\" in date or \"Nov\" in date or \"Dec\" in date:\n",
        "    date = date+y1\n",
        "  else:\n",
        "    date=date+y2\n",
        "\n",
        "  return date\n",
        "  "
      ],
      "execution_count": 0,
      "outputs": []
    },
    {
      "cell_type": "code",
      "metadata": {
        "id": "sxyWLmirVWtU",
        "colab_type": "code",
        "colab": {}
      },
      "source": [
        "def get_week_day(date):\n",
        "  \n",
        "  my_date = date\n",
        "  my_date = calendar.day_name[my_date.weekday()]\n",
        "  return my_date"
      ],
      "execution_count": 0,
      "outputs": []
    },
    {
      "cell_type": "code",
      "metadata": {
        "id": "N9ZYUruYI9PI",
        "colab_type": "code",
        "colab": {}
      },
      "source": [
        "def get_ht(desc_col):\n",
        "\n",
        "  nums = [\"0\",\"1\",\"2\",\"3\",\"4\",\"5\",\"6\",\"7\",\"8\",\"9\",]\n",
        "  ht =\"\"\n",
        "\n",
        "  for x in desc_col:\n",
        "    if x in nums:\n",
        "      i = desc_col.index(x) - 1\n",
        "      ht = desc_col[:i]\n",
        "  ht = re.sub(r\"\\d+\", \"\", ht)\n",
        "  return ht.strip()"
      ],
      "execution_count": 0,
      "outputs": []
    },
    {
      "cell_type": "code",
      "metadata": {
        "id": "7tiCP09CNM0T",
        "colab_type": "code",
        "colab": {}
      },
      "source": [
        "def get_at(desc_col):\n",
        "  nums = [\"0\",\"1\",\"2\",\"3\",\"4\",\"5\",\"6\",\"7\",\"8\",\"9\",]\n",
        "  at =\"\"\n",
        "\n",
        "\n",
        "  for x in desc_col:\n",
        "    if x in nums:\n",
        "      i = desc_col.index(x) - 1\n",
        "      at = desc_col[i:]\n",
        "  at = re.sub(r\"\\d+\", \"\", at)\n",
        "  at = re.sub(r'-', \"\", at)\n",
        "  at = at.strip()\n",
        "  return at.strip()"
      ],
      "execution_count": 0,
      "outputs": []
    },
    {
      "cell_type": "code",
      "metadata": {
        "id": "PiobYbhlQ14s",
        "colab_type": "code",
        "colab": {}
      },
      "source": [
        "def result(desc_col):\n",
        "  sep = \"-\"\n",
        "  htg = 0\n",
        "  atg = 0\n",
        "  result = 0 #Home = 1, Draw = 0, Away = 2\n",
        "\n",
        "  for x in desc_col:\n",
        "    if x == sep:\n",
        "      i = desc_col.index(x) -1\n",
        "      j = desc_col.index(x) + 1\n",
        "      htg = desc_col[i]\n",
        "      atg = desc_col[j]\n",
        "  if htg > atg:\n",
        "    result = 1\n",
        "  elif atg > htg:\n",
        "    result = 2\n",
        "  else:\n",
        "    result = 0\n",
        "\n",
        "  return result"
      ],
      "execution_count": 0,
      "outputs": []
    },
    {
      "cell_type": "code",
      "metadata": {
        "id": "z9tuoaOo7Yt2",
        "colab_type": "code",
        "colab": {}
      },
      "source": [
        "def get_team_position(team, gameweek,season, t_d):\n",
        "\n",
        "  ht_pos = 0\n",
        "\n",
        "  for index, row in t_d.iterrows():\n",
        "    if season.strip() == row['Season'].strip() and team.strip() == row[\"Club\"].strip() and gameweek == (int(row[\"MatchDay\"]) +1) :\n",
        "      ht_pos = row[\"Position\"]\n",
        "\n",
        "  return ht_pos"
      ],
      "execution_count": 0,
      "outputs": []
    },
    {
      "cell_type": "code",
      "metadata": {
        "id": "dA6OywUBBZcu",
        "colab_type": "code",
        "colab": {}
      },
      "source": [
        "def replace_teams(team):\n",
        "  team = re.sub(r'FC', \"\", team)\n",
        "  team = re.sub(r'&', \"and\", team)\n",
        "  team =  re.sub(r\"\\b[a-zA-Z]\\b\", \"\", team)\n",
        "  return team.strip()"
      ],
      "execution_count": 0,
      "outputs": []
    },
    {
      "cell_type": "code",
      "metadata": {
        "id": "Oc2e6bHRAMka",
        "colab_type": "code",
        "colab": {}
      },
      "source": [
        "def preprocess_data(sheet, td):\n",
        "\n",
        "\n",
        "    sheet['Date'] = sheet.apply(lambda x: get_date(x[\"Season\"],x[\"date_col\"]),axis=1)\n",
        "    sheet['Date'] = pd.to_datetime(sheet['Date'])\n",
        "    sheet['Gameday'] = sheet.apply(lambda x: get_week_day(x['Date']), axis=1)\n",
        "    sheet[\"Result\"] = sheet.apply(lambda x: result(x[\"desc\"]), axis = 1)\n",
        "    sheet[\"Home Team\"] = sheet.apply(lambda x: get_ht(x[\"desc\"]), axis = 1)\n",
        "    sheet[\"Away Team\"] = sheet.apply(lambda x: get_at(x[\"desc\"]), axis = 1)\n",
        "    sheet['Home Team'] = sheet.apply(lambda x: replace_teams(x['Home Team']), axis = 1)\n",
        "    sheet['Away Team'] = sheet.apply(lambda x: replace_teams(x['Away Team']), axis = 1)\n",
        "    #sheet['HT Position'] = sheet.apply(lambda x: get_team_position(x[\"Home Team\"], x[\"Gameweek\"],x[\"Season\"], table_data), axis=1)\n",
        "    #sheet['AT Position'] = sheet.apply(lambda x: get_team_position(x[\"Away Team\"], x[\"Gameweek\"],x[\"Season\"], table_data), axis=1)\n",
        "\n",
        "\n",
        "    new_sheet = sheet[[ \"Season\",\"Gameweek\",\"Gameday\", \"Home Team\", \"Away Team\", \"Result\"]]\n",
        "\n",
        "    return new_sheet\n"
      ],
      "execution_count": 0,
      "outputs": []
    },
    {
      "cell_type": "code",
      "metadata": {
        "id": "GABOpLTwEjtU",
        "colab_type": "code",
        "colab": {}
      },
      "source": [
        "test_sheet = preprocess_data(data, table_data)"
      ],
      "execution_count": 0,
      "outputs": []
    },
    {
      "cell_type": "code",
      "metadata": {
        "id": "Nsq28PQoTkWS",
        "colab_type": "code",
        "colab": {}
      },
      "source": [
        "def get_table_position(sheet, td):\n",
        "  sheet['HT Position'] = sheet.apply(lambda x: get_team_position(x[\"Home Team\"], x[\"Gameweek\"],x[\"Season\"], table_data), axis=1)\n",
        "  sheet['AT Position'] = sheet.apply(lambda x: get_team_position(x[\"Away Team\"], x[\"Gameweek\"],x[\"Season\"], table_data), axis=1)\n",
        "\n",
        "  new_sheet = sheet[[ \"Season\",\"Gameweek\",\"Gameday\", \"Home Team\", \"Away Team\", 'HT Position', 'AT Position', \"Result\"]]\n",
        "\n",
        "  return new_sheet"
      ],
      "execution_count": 0,
      "outputs": []
    },
    {
      "cell_type": "code",
      "metadata": {
        "id": "DqMrcllZMW4A",
        "colab_type": "code",
        "colab": {}
      },
      "source": [
        "final_sheet = get_table_position(test_sheet, table_data)"
      ],
      "execution_count": 0,
      "outputs": []
    },
    {
      "cell_type": "code",
      "metadata": {
        "id": "BpoPHlf9MpNR",
        "colab_type": "code",
        "colab": {}
      },
      "source": [
        "test_sheet['AT Position'] = test_sheet['AT Position'].astype(int)\n",
        "test_sheet['HT Position'] = test_sheet['HT Position'].astype(int)"
      ],
      "execution_count": 0,
      "outputs": []
    },
    {
      "cell_type": "code",
      "metadata": {
        "id": "0yKGgyWHM1rn",
        "colab_type": "code",
        "colab": {}
      },
      "source": [
        "test_sheet.info()"
      ],
      "execution_count": 0,
      "outputs": []
    },
    {
      "cell_type": "code",
      "metadata": {
        "id": "92oKjiVNM9-i",
        "colab_type": "code",
        "colab": {}
      },
      "source": [
        "test_sheet.describe()"
      ],
      "execution_count": 0,
      "outputs": []
    },
    {
      "cell_type": "code",
      "metadata": {
        "id": "U1g8ZFcVNJ0Y",
        "colab_type": "code",
        "colab": {}
      },
      "source": [
        "test_sheet['Home Team'].value_counts()"
      ],
      "execution_count": 0,
      "outputs": []
    },
    {
      "cell_type": "code",
      "metadata": {
        "id": "rSLkC1v871oY",
        "colab_type": "code",
        "colab": {}
      },
      "source": [
        "from google.colab import files\n",
        "\n",
        "data = final_sheet.to_csv('pl_data.csv')\n",
        "\n"
      ],
      "execution_count": 0,
      "outputs": []
    },
    {
      "cell_type": "code",
      "metadata": {
        "id": "gZ_m5zFMYTJt",
        "colab_type": "code",
        "colab": {}
      },
      "source": [
        "files.download('pl_data.csv')"
      ],
      "execution_count": 0,
      "outputs": []
    }
  ]
}